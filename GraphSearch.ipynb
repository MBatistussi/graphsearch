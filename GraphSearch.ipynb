{
 "cells": [
  {
   "cell_type": "code",
   "execution_count": 1,
   "metadata": {
    "collapsed": false
   },
   "outputs": [
    {
     "name": "stdout",
     "output_type": "stream",
     "text": [
      "Requirement already satisfied: facebook-sdk in c:\\programdata\\anaconda3\\lib\\site-packages\n",
      "Requirement already satisfied: requests in c:\\programdata\\anaconda3\\lib\\site-packages (from facebook-sdk)\n",
      "Requirement already satisfied: statistics in c:\\programdata\\anaconda3\\lib\\site-packages\n",
      "Requirement already satisfied: docutils>=0.3 in c:\\programdata\\anaconda3\\lib\\site-packages (from statistics)\n"
     ]
    }
   ],
   "source": [
    "!pip install facebook-sdk\n",
    "!pip install statistics\n"
   ]
  },
  {
   "cell_type": "code",
   "execution_count": 2,
   "metadata": {
    "collapsed": true
   },
   "outputs": [],
   "source": [
    "import facebook\n",
    "#Substitua a access token pela sua.\n",
    "graph = facebook.GraphAPI(access_token='EAACEdEose0cBAKurnBhXe4iYjVFfp4Vqik9T1CD7lljnMyJ5IP7PSplfRz5F2HhZBAmZALsuIWlg2h2UX2O0ZBqspDyfb9Af4T475TNXuZBy4K4OMe68bGlDOXdZC6xyZBISPkbjEnZBcSyknEcNoBRcL7TQvANadmCm3qSPPyN4vyCiwEd51oJgZBAFpOtlADkZD', version='2.2')"
   ]
  },
  {
   "cell_type": "code",
   "execution_count": 3,
   "metadata": {
    "collapsed": false
   },
   "outputs": [
    {
     "data": {
      "text/plain": [
       "{'data': [{'id': '1229289166', 'name': 'André Felipe Alfieri'},\n",
       "  {'id': '1737656186', 'name': 'Túlio de Souza'},\n",
       "  {'id': '994579833914944', 'name': 'Lorrayne Guimarães'},\n",
       "  {'id': '100000888984231', 'name': 'Luan Fonseca'},\n",
       "  {'id': '967446623299200', 'name': 'Paula Lopes'},\n",
       "  {'id': '100001317208437', 'name': 'Agnaldo Luiz Cunha'},\n",
       "  {'id': '786112898127224', 'name': 'Nalbert Gabriel'},\n",
       "  {'id': '878157025590379', 'name': 'Rodrigo Carvalho Silva'},\n",
       "  {'id': '621280334630627', 'name': 'Vinícius Perestrelo'},\n",
       "  {'id': '713884768707551', 'name': 'Leonardo Nascimento'},\n",
       "  {'id': '757898397651520', 'name': 'Thaian Assis'},\n",
       "  {'id': '804671229641024', 'name': 'Pedro Coelho'},\n",
       "  {'id': '100003565405338', 'name': 'João Vinaud'},\n",
       "  {'id': '644347655699194', 'name': 'Kamilla Sâmia'},\n",
       "  {'id': '729278127243565', 'name': 'Matheus Silva'},\n",
       "  {'id': '528233454023400', 'name': 'Igor Ricardo'}],\n",
       " 'paging': {'cursors': {'after': 'QVFIUnRmbUFiU195RFVDSjgwMlZA1Y0YxVkg2Q09WYmFHVHNDdHhpSmlWRlhxTmxxVExCOWY4SG5QNGFSVk50YndHQWdyMU5IWUJfY0pXbFVpeGVHNHU5VWZAR',\n",
       "   'before': 'QVFIUnBQU2FxT2lhNkFFSVdTSjJTV0tlb2l0bk5kX01SSWhCT1Y3M2ZAKWVBpdHZAoVmNJLU1BcVdGcTVDMUJqcmI0LWkZD'}},\n",
       " 'summary': {'total_count': 849}}"
      ]
     },
     "execution_count": 3,
     "metadata": {},
     "output_type": "execute_result"
    }
   ],
   "source": [
    "friends = graph.get_object(\"me/friends\")\n",
    "friends"
   ]
  },
  {
   "cell_type": "code",
   "execution_count": 4,
   "metadata": {
    "collapsed": false
   },
   "outputs": [],
   "source": [
    "birthday = graph.get_object(\"me/friends?fields=birthday\")\n",
    "currency = graph.get_object(\"me/friends?fields=currency\")\n",
    "\n",
    "#Nesse dÃÂ¡ pra ver qual tipo de smartphone a pessoa tÃÂ¡ usando. DÃÂ¡ pra buscar amigos que usam iOS ou Android, por exemplo.\n",
    "devices = graph.get_object(\"me/friends?fields=devices\")\n",
    "\n",
    "email = graph.get_object(\"me/friends?fields=email\")\n",
    "education = graph.get_object(\"me/friends?fields=education\")\n",
    "gender = graph.get_object(\"me/friends?fields=gender\")\n",
    "hometown = graph.get_object(\"me/friends?fields=hometown\")\n",
    "location = graph.get_object(\"me/friends?fields=location\") #Cidade atual\n",
    "\n",
    "#Pode usar esse pra combinar com a busca por status de relacionamento\n",
    "interested_in = graph.get_object(\"me/friends?fields=interested_in\")\n",
    "relationship_status = graph.get_object(\"me/friends?fields=relationship_status\")\n",
    "\n",
    "languages = graph.get_object(\"me/friends?fields=languages\")\n",
    "lastname = graph.get_object(\"me/friends?fields=lastname\")\n",
    "firstname = graph.get_object(\"me/friends?fields=firstname\")\n",
    "political_position = graph.get_object(\"me/friends?fields=political\")\n",
    "religion = graph.get_object(\"me/friends?fields=religion\")"
   ]
  },
  {
   "cell_type": "code",
   "execution_count": 5,
   "metadata": {
    "collapsed": false
   },
   "outputs": [
    {
     "name": "stdout",
     "output_type": "stream",
     "text": [
      "{'education': [{'school': {'id': '104029374150', 'name': 'IFRN'}, 'type': 'High School', 'year': {'id': '144044875610606', 'name': '2011'}, 'id': '133813000021472'}, {'concentration': [{'id': '224781761047074', 'name': 'Técnico em Eletrotécnica'}], 'school': {'id': '204077342945434', 'name': 'IFRN Oficial'}, 'type': 'College', 'year': {'id': '144044875610606', 'name': '2011'}, 'id': '549932378409530'}, {'concentration': [{'id': '107953379227862', 'name': 'Information Technology'}], 'school': {'id': '108090825885945', 'name': 'Federal University of Rio Grande do Norte'}, 'type': 'College', 'year': {'id': '138879996141011', 'name': '2013'}, 'id': '433450970057672'}, {'concentration': [{'id': '107512149278840', 'name': 'Journalism'}], 'school': {'id': '112121632136903', 'name': 'Universidade Federal do Rio Grande do Norte'}, 'type': 'College', 'id': '272104419525662'}], 'id': '731368400265926'}\n"
     ]
    }
   ],
   "source": [
    "\n",
    "print(graph.get_object(\"me?fields=education\"))"
   ]
  },
  {
   "cell_type": "code",
   "execution_count": 6,
   "metadata": {
    "collapsed": true
   },
   "outputs": [],
   "source": [
    "#AgeRange dÃÂ¡ pra ser usado pra pegar idade entre X e Y. Ou faz um if, mais fÃÂ¡cil :p"
   ]
  },
  {
   "cell_type": "code",
   "execution_count": 7,
   "metadata": {
    "collapsed": false
   },
   "outputs": [
    {
     "name": "stdout",
     "output_type": "stream",
     "text": [
      "Qual característica você deseja buscar? hometown\n",
      "Qual tipo dessa característica você quer? Natal, Rio Grande do Norte\n",
      "['Paula Lopes', 'Nalbert Gabriel']\n"
     ]
    }
   ],
   "source": [
    "def search(friends, fields): \n",
    "    filtered_friends = []\n",
    "    for friend in friends:\n",
    "        for field in fields:\n",
    "            # OK\n",
    "            if(field == 'devices'):\n",
    "                if(field not in friend):\n",
    "                    break\n",
    "                if(fields[field] != friend[field][0]['os']):\n",
    "                    break\n",
    "            # OK\n",
    "            if(field == 'hometown'):\n",
    "                if(field not in friend):\n",
    "                    break\n",
    "                if(fields[field] != friend[field]['name']):\n",
    "                    break\n",
    "                    break\n",
    "            # OK\n",
    "            if(field == 'location'):\n",
    "                if(field not in friend):\n",
    "                    break\n",
    "                if(fields[field] != friend[field]['name']):\n",
    "                    break\n",
    "            # OK\n",
    "            if(field == 'relationship_status'):\n",
    "                if(field not in friend):\n",
    "                    break\n",
    "                if(fields[field] != friend[field]):\n",
    "                    break\n",
    "            # OK\n",
    "            if(field == 'religion'):\n",
    "                if(field not in friend):\n",
    "                    break\n",
    "                if(fields[field] != friend[field]):\n",
    "                    break\n",
    "            # OK\n",
    "            if(field == 'gender'):\n",
    "                if(field not in friend):\n",
    "                    break\n",
    "                if(fields[field] != friend[field]):\n",
    "                    break\n",
    "            filtered_friends.append(friend)\n",
    "    return filtered_friends\n",
    "\n",
    "\n",
    "# ISSO Ã PORQUE EU ESTAVA USANDO UM JSON PARA TESTAR\n",
    "# import json\n",
    "# with open('teste.json') as json_data:\n",
    "#     friends = json.load(json_data)\n",
    "\n",
    "friends = graph.get_object(\"me/friends?fields=devices,hometown,location,relationship_status,religion,gender,name\")\n",
    "friends = friends['data']\n",
    "# A FUNÃÃO RECEBE DOIS PARÃMETRO, A LISTA DE AMIGOS E UM DICIONÃRIO COM OS CAMPOS A SEREM PESQUISADOS\n",
    "field = input(\"Qual característica você deseja buscar? \")\n",
    "field2 = input(\"Qual tipo dessa característica você quer? \")\n",
    "friends = search(friends,{field: field2})\n",
    "friends2 = []\n",
    "for friend in friends:\n",
    "    friends2.append(friend['name'])\n",
    "print(friends2)\n",
    "#print(len(friends2))"
   ]
  }
 ],
 "metadata": {
  "kernelspec": {
   "display_name": "Python 3",
   "language": "python",
   "name": "python3"
  },
  "language_info": {
   "codemirror_mode": {
    "name": "ipython",
    "version": 3
   },
   "file_extension": ".py",
   "mimetype": "text/x-python",
   "name": "python",
   "nbconvert_exporter": "python",
   "pygments_lexer": "ipython3",
   "version": "3.6.0"
  }
 },
 "nbformat": 4,
 "nbformat_minor": 2
}
